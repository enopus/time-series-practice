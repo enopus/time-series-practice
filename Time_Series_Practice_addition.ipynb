{
  "nbformat": 4,
  "nbformat_minor": 0,
  "metadata": {
    "colab": {
      "name": "Time_Series_Practice_addition.ipynb",
      "provenance": [],
      "collapsed_sections": []
    },
    "kernelspec": {
      "name": "python3",
      "display_name": "Python 3"
    },
    "language_info": {
      "name": "python"
    }
  },
  "cells": [
    {
      "cell_type": "markdown",
      "metadata": {
        "id": "ETI7MdLYNN3C"
      },
      "source": [
        "# 시계열 분석 실습\n",
        "\n",
        "## Contents\n",
        "1. 시계열 예측\n",
        "\n",
        "  1-1) 데이터셋 불러오기\n",
        "\n",
        "  1-2) 데이터 EDA\n",
        "\n",
        "  1-3) 데이터 전처리\n",
        "\n",
        "  1-4) 모델 생성 및 실행\n",
        "\n",
        "  1-5) 결과 시각화 및 살펴보기\n",
        "\n",
        "\n",
        "2. 시계열 분류\n",
        "\n",
        "  2-1) 데이터셋 불러오기\n",
        "\n",
        "  2-2) 데이터 EDA 및 데이터 전처리\n",
        "\n",
        "  2-3) 모델 생성 및 실행\n",
        "\n",
        "  2-4) 평가\n",
        "\n",
        "---"
      ]
    },
    {
      "cell_type": "markdown",
      "metadata": {
        "id": "4rpcm2ILPpwQ"
      },
      "source": [
        "# 1. 시계열 예측"
      ]
    },
    {
      "cell_type": "markdown",
      "metadata": {
        "id": "vCjl2I6ok8tl"
      },
      "source": [
        "## 1-1) 데이터셋 불러오기"
      ]
    },
    {
      "cell_type": "code",
      "metadata": {
        "id": "dKNDxjsavIWh"
      },
      "source": [
        "import pandas as pd"
      ],
      "execution_count": null,
      "outputs": []
    },
    {
      "cell_type": "code",
      "metadata": {
        "id": "uGavXEEPDTMs"
      },
      "source": [
        "shampoo = pd.read_csv('https://raw.githubusercontent.com/enopus/time-series-practice/main/shampoo_data.csv')\n",
        "shampoo"
      ],
      "execution_count": null,
      "outputs": []
    },
    {
      "cell_type": "markdown",
      "metadata": {
        "id": "LWCwhvv9HWB1"
      },
      "source": [
        "## 1-2) 데이터 EDA\n"
      ]
    },
    {
      "cell_type": "code",
      "metadata": {
        "id": "FOD_snirdh7V"
      },
      "source": [
        "!pip install -U pandas-profiling"
      ],
      "execution_count": null,
      "outputs": []
    },
    {
      "cell_type": "code",
      "metadata": {
        "id": "vhprUY0Bd6ar"
      },
      "source": [
        "import pandas_profiling"
      ],
      "execution_count": null,
      "outputs": []
    },
    {
      "cell_type": "code",
      "metadata": {
        "id": "O_HT-j4heBS8"
      },
      "source": [
        "shampoo_report = shampoo.profile_report()\n",
        "shampoo_report"
      ],
      "execution_count": null,
      "outputs": []
    },
    {
      "cell_type": "markdown",
      "metadata": {
        "id": "oZZb9WcZgT_y"
      },
      "source": [
        "## 1-3) 데이터 전처리"
      ]
    },
    {
      "cell_type": "code",
      "metadata": {
        "id": "MyNZdsA6e7A8"
      },
      "source": [
        "reindex_shampoo = shampoo.set_index('Month', inplace=False)\n",
        "reindex_shampoo"
      ],
      "execution_count": null,
      "outputs": []
    },
    {
      "cell_type": "code",
      "metadata": {
        "id": "3rUDCbEJgTBW"
      },
      "source": [
        "# reindex_shampoo.dropna(axis=0)\n",
        "# reindex_shampoo.fillna(0)\n",
        "\n",
        "preprocessed_shampoo = reindex_shampoo.loc['2001-01':'2003-12']\n",
        "preprocessed_shampoo"
      ],
      "execution_count": null,
      "outputs": []
    },
    {
      "cell_type": "code",
      "metadata": {
        "id": "pkL4_N99myhE"
      },
      "source": [
        "shampoo_report = shampoo.profile_report()\n",
        "shampoo_report"
      ],
      "execution_count": null,
      "outputs": []
    },
    {
      "cell_type": "code",
      "metadata": {
        "id": "SLQoNXUWrEWx"
      },
      "source": [
        "import matplotlib.pyplot as plt"
      ],
      "execution_count": null,
      "outputs": []
    },
    {
      "cell_type": "code",
      "metadata": {
        "id": "Kt9z59hgGFIC"
      },
      "source": [
        "%matplotlib inline\n",
        "plt.close('all')"
      ],
      "execution_count": null,
      "outputs": []
    },
    {
      "cell_type": "code",
      "metadata": {
        "id": "XXLWiq6-qfmt"
      },
      "source": [
        "# preprocessed_shampoo.plot(x='Month', y='Sales')\n",
        "preprocessed_shampoo = preprocessed_shampoo.astype(float)\n",
        "preprocessed_shampoo.plot(y='Sales', use_index=True, figsize=(15, 10))\n",
        "plt.show()"
      ],
      "execution_count": null,
      "outputs": []
    },
    {
      "cell_type": "markdown",
      "metadata": {
        "id": "qr3TXiXq0WRV"
      },
      "source": [
        "### ◆ 데이터 분할"
      ]
    },
    {
      "cell_type": "code",
      "metadata": {
        "id": "bY0yEaCetJwz"
      },
      "source": [
        "sales = preprocessed_shampoo['Sales']\n",
        "sales = list(sales)\n",
        "sales"
      ],
      "execution_count": null,
      "outputs": []
    },
    {
      "cell_type": "code",
      "metadata": {
        "id": "OxLIhPqWqX17"
      },
      "source": [
        "x = []\n",
        "y = []\n",
        "\n",
        "for i in enumerate(sales):\n",
        "  if i[0] < 3:\n",
        "    continue\n",
        "  \n",
        "  else:\n",
        "    previous_t3 = sales[i[0]-3]\n",
        "    previous_t2 = sales[i[0]-2]\n",
        "    previous_t1 = sales[i[0]-1]\n",
        "    current_t = sales[i[0]]\n",
        "\n",
        "    x.append([previous_t3, previous_t2, previous_t1])\n",
        "    y.append(current_t)\n",
        "\n",
        "print(x)\n",
        "print('=========================================')\n",
        "print(y)"
      ],
      "execution_count": null,
      "outputs": []
    },
    {
      "cell_type": "code",
      "metadata": {
        "id": "KeET3c_UuDU4"
      },
      "source": [
        "x_train = x[:-3]\n",
        "x_train"
      ],
      "execution_count": null,
      "outputs": []
    },
    {
      "cell_type": "code",
      "metadata": {
        "id": "vJEYSlFpuaxf"
      },
      "source": [
        "y_train = y[:-3]\n",
        "y_train"
      ],
      "execution_count": null,
      "outputs": []
    },
    {
      "cell_type": "code",
      "metadata": {
        "id": "d3Ayqj0FudXs"
      },
      "source": [
        "x_test = x[-3:]\n",
        "x_test"
      ],
      "execution_count": null,
      "outputs": []
    },
    {
      "cell_type": "code",
      "metadata": {
        "id": "LkS1Ur5fumk2"
      },
      "source": [
        "y_test = y[-3:]\n",
        "y_test"
      ],
      "execution_count": null,
      "outputs": []
    },
    {
      "cell_type": "markdown",
      "metadata": {
        "id": "PGaWAMdH0cft"
      },
      "source": [
        "### ◆ 데이터 스케일링"
      ]
    },
    {
      "cell_type": "code",
      "metadata": {
        "id": "wToVHPaM0xeP"
      },
      "source": [
        "from sklearn.preprocessing import MinMaxScaler"
      ],
      "execution_count": null,
      "outputs": []
    },
    {
      "cell_type": "code",
      "metadata": {
        "id": "WO5yYWK903Oi"
      },
      "source": [
        "scaler = MinMaxScaler()\n",
        "x_train_sc = scaler.fit_transform(x_train)\n",
        "x_test_sc = scaler.transform(x_test)\n",
        "\n",
        "print(x_train_sc)\n",
        "print(x_test_sc)"
      ],
      "execution_count": null,
      "outputs": []
    },
    {
      "cell_type": "markdown",
      "metadata": {
        "id": "YM7gh2t5nF_Z"
      },
      "source": [
        "## 1-4) 모델 생성 및 실행\n"
      ]
    },
    {
      "cell_type": "code",
      "metadata": {
        "id": "KpnJLzBV1OUr"
      },
      "source": [
        "from keras.layers import LSTM\n",
        "from keras.models import Sequential\n",
        "from keras.layers import Dense\n",
        "from keras.layers import Dropout\n",
        "from keras import optimizers\n",
        "from keras.callbacks import EarlyStopping\n",
        "import numpy as np"
      ],
      "execution_count": null,
      "outputs": []
    },
    {
      "cell_type": "code",
      "metadata": {
        "id": "QiwLwaN1dSbm"
      },
      "source": [
        "# sample의 수, time step의 수, feature의 수\n",
        "x_train_mlp = np.array(x_train_sc)\n",
        "x_test_mlp = np.array(x_test_sc)\n",
        "x_train_mlp"
      ],
      "execution_count": null,
      "outputs": []
    },
    {
      "cell_type": "code",
      "metadata": {
        "id": "z9FepS63lKg6"
      },
      "source": [
        "x_train_mlp.shape"
      ],
      "execution_count": null,
      "outputs": []
    },
    {
      "cell_type": "code",
      "metadata": {
        "id": "uGjdim_1-dr4"
      },
      "source": [
        "x_train_lstm = np.reshape(x_train_sc, (-1, 3, 1))\n",
        "x_test_lstm = np.reshape(x_test_sc, (-1, 3, 1))\n",
        "x_train_lstm"
      ],
      "execution_count": null,
      "outputs": []
    },
    {
      "cell_type": "code",
      "metadata": {
        "id": "emv3qBhL-nUD"
      },
      "source": [
        "x_train_lstm.shape"
      ],
      "execution_count": null,
      "outputs": []
    },
    {
      "cell_type": "code",
      "metadata": {
        "id": "GQ6zPYFFyK_N"
      },
      "source": [
        "y_train = np.array(y_train)\n",
        "y_test = np.array(y_test)\n",
        "y_train"
      ],
      "execution_count": null,
      "outputs": []
    },
    {
      "cell_type": "markdown",
      "metadata": {
        "id": "JAA-w2n71b2s"
      },
      "source": [
        "### ◆ MLP 모델 구축"
      ]
    },
    {
      "cell_type": "code",
      "metadata": {
        "id": "aq12j2Yv1a8o"
      },
      "source": [
        "mlp_model = Sequential()\n",
        "mlp_model.add(Dense(64, input_dim=x_train_mlp.shape[1], activation='relu'))\n",
        "mlp_model.add(Dropout(0.5))\n",
        "mlp_model.add(Dense(1))\n",
        "adam = optimizers.adam_v2.Adam(lr=0.1)\n",
        "mlp_model.compile(loss='mse', optimizer='adam', metrics=['mse'])\n",
        "mlp_model.summary()"
      ],
      "execution_count": null,
      "outputs": []
    },
    {
      "cell_type": "code",
      "metadata": {
        "id": "hcYipBnumyQQ"
      },
      "source": [
        "mlp_history = mlp_model.fit(x=x_train_mlp, y=y_train, epochs=1500)"
      ],
      "execution_count": null,
      "outputs": []
    },
    {
      "cell_type": "code",
      "metadata": {
        "id": "yzzeg6oSqWi3"
      },
      "source": [
        "mlp_pred = mlp_model.predict(x_test_mlp)\n",
        "mlp_pred"
      ],
      "execution_count": null,
      "outputs": []
    },
    {
      "cell_type": "code",
      "metadata": {
        "id": "CodUK94w6k8V"
      },
      "source": [
        "mlp_shampoo = preprocessed_shampoo\n",
        "mlp_shampoo['predict'] = mlp_shampoo['Sales']\n",
        "mlp_pred = np.reshape(mlp_pred, (3))\n",
        "mlp_shampoo.loc[-3:, 'predict'] = mlp_pred"
      ],
      "execution_count": null,
      "outputs": []
    },
    {
      "cell_type": "code",
      "metadata": {
        "id": "_Lbb8KFNG3hT"
      },
      "source": [
        "%matplotlib inline\n",
        "plt.close('all')"
      ],
      "execution_count": null,
      "outputs": []
    },
    {
      "cell_type": "code",
      "metadata": {
        "id": "AE0H_4pW8SLT"
      },
      "source": [
        "# predict_shampoo.plot(y='Sales', use_index=True, figsize=(15, 10), subplots=True)\n",
        "mlp_shampoo.plot(use_index=True, figsize=(15, 10), subplots=False)\n",
        "plt.show()"
      ],
      "execution_count": null,
      "outputs": []
    },
    {
      "cell_type": "markdown",
      "metadata": {
        "id": "ixBYXZxa1oWM"
      },
      "source": [
        "### ◆ LSTM 모델 구축"
      ]
    },
    {
      "cell_type": "code",
      "metadata": {
        "id": "l-zilqVb1zI9"
      },
      "source": [
        "lstm_model = Sequential()\n",
        "lstm_model.add(LSTM(10, activation='relu', input_shape=(x_train_lstm.shape[1], x_train_lstm.shape[2])))\n",
        "lstm_model.add(Dense(1))\n",
        "lstm_model.compile(loss='mse', optimizer='adam', metrics=['mse'])\n",
        "lstm_model.summary()"
      ],
      "execution_count": null,
      "outputs": []
    },
    {
      "cell_type": "code",
      "metadata": {
        "id": "vUByl1kR8ifo"
      },
      "source": [
        "lstm_history = lstm_model.fit(x_train_lstm, y_train, epochs=500)"
      ],
      "execution_count": null,
      "outputs": []
    },
    {
      "cell_type": "code",
      "metadata": {
        "id": "0GY3OrCQ_kL8"
      },
      "source": [
        "lstm_pred = lstm_model.predict(x_test_lstm)\n",
        "lstm_pred"
      ],
      "execution_count": null,
      "outputs": []
    },
    {
      "cell_type": "code",
      "metadata": {
        "id": "D2gQ6z-O_exS"
      },
      "source": [
        "lstm_shampoo = preprocessed_shampoo\n",
        "lstm_shampoo['predict'] = lstm_shampoo['Sales']\n",
        "lstm_pred = np.reshape(lstm_pred, (3))\n",
        "lstm_shampoo.loc[-3:, 'predict'] = lstm_pred"
      ],
      "execution_count": null,
      "outputs": []
    },
    {
      "cell_type": "code",
      "metadata": {
        "id": "1tEjhKoFHFXH"
      },
      "source": [
        "%matplotlib inline\n",
        "plt.close('all')"
      ],
      "execution_count": null,
      "outputs": []
    },
    {
      "cell_type": "code",
      "metadata": {
        "id": "oNDbcisZh1Xg"
      },
      "source": [
        "lstm_shampoo.plot(use_index=True, figsize=(15, 10))\n",
        "plt.show()"
      ],
      "execution_count": null,
      "outputs": []
    },
    {
      "cell_type": "markdown",
      "metadata": {
        "id": "IrbTaqvggl-I"
      },
      "source": [
        "## 1-5) 결과 시각화 및 살펴보기\n"
      ]
    },
    {
      "cell_type": "code",
      "metadata": {
        "id": "mWTBfVguHJiJ"
      },
      "source": [
        "%matplotlib inline\n",
        "plt.close('all')"
      ],
      "execution_count": null,
      "outputs": []
    },
    {
      "cell_type": "code",
      "metadata": {
        "id": "K4xXCz_ckCYH"
      },
      "source": [
        "mlp_history_df = pd.DataFrame(mlp_history.history)\n",
        "mlp_history_df.plot(use_index=True, figsize=(15, 10))\n",
        "plt.show()"
      ],
      "execution_count": null,
      "outputs": []
    },
    {
      "cell_type": "code",
      "metadata": {
        "id": "aDOtTUkrHLTV"
      },
      "source": [
        "%matplotlib inline\n",
        "plt.close('all')"
      ],
      "execution_count": null,
      "outputs": []
    },
    {
      "cell_type": "code",
      "metadata": {
        "id": "18tBPBI3gqPZ"
      },
      "source": [
        "lstm_history_df = pd.DataFrame(lstm_history.history)\n",
        "lstm_history_df.plot(use_index=True, figsize=(15, 10))\n",
        "plt.show()"
      ],
      "execution_count": null,
      "outputs": []
    },
    {
      "cell_type": "markdown",
      "metadata": {
        "id": "h2reNic_kxMx"
      },
      "source": [
        "# 2. 시계열 분류\n"
      ]
    },
    {
      "cell_type": "markdown",
      "metadata": {
        "id": "OHKWGPG85fGt"
      },
      "source": [
        "## 2-1) 데이터셋 불러오기"
      ]
    },
    {
      "cell_type": "code",
      "metadata": {
        "id": "P5gwG-iU2dob"
      },
      "source": [
        "import numpy as np\n",
        "import pandas as pd"
      ],
      "execution_count": null,
      "outputs": []
    },
    {
      "cell_type": "code",
      "metadata": {
        "id": "OtAeeXpTMc9r"
      },
      "source": [
        "wafer_train = pd.read_csv('https://raw.githubusercontent.com/enopus/time-series-practice/main/wafer_train.csv', header=None)\n",
        "wafer_train"
      ],
      "execution_count": null,
      "outputs": []
    },
    {
      "cell_type": "code",
      "metadata": {
        "id": "9-t0yhRPrNNJ"
      },
      "source": [
        "wafer_test = pd.read_csv('https://raw.githubusercontent.com/enopus/time-series-practice/main/wafer_test.csv', header=None)\n",
        "wafer_test"
      ],
      "execution_count": null,
      "outputs": []
    },
    {
      "cell_type": "markdown",
      "metadata": {
        "id": "bIaPKhnFxRaY"
      },
      "source": [
        "## 2-2) 데이터 EDA 및 전처리"
      ]
    },
    {
      "cell_type": "code",
      "metadata": {
        "id": "vsWIDQcUsReo"
      },
      "source": [
        "wafer_train.isna().sum()"
      ],
      "execution_count": null,
      "outputs": []
    },
    {
      "cell_type": "code",
      "metadata": {
        "id": "w6wI9JSQwXhF"
      },
      "source": [
        "wafer_train.isna().sum().sum()"
      ],
      "execution_count": null,
      "outputs": []
    },
    {
      "cell_type": "code",
      "metadata": {
        "id": "e-EplhQVHVvs"
      },
      "source": [
        "%matplotlib inline\n",
        "plt.close('all')"
      ],
      "execution_count": null,
      "outputs": []
    },
    {
      "cell_type": "code",
      "metadata": {
        "id": "tSObVXclwoRY"
      },
      "source": [
        "wafer_sample = wafer_train.loc[:5, :]\n",
        "wafer_sample = wafer_sample.transpose()\n",
        "wafer_sample.plot(use_index=True, figsize=(15, 10), subplots=True)"
      ],
      "execution_count": null,
      "outputs": []
    },
    {
      "cell_type": "code",
      "metadata": {
        "id": "ayVy9zozrTxg"
      },
      "source": [
        "x_train = wafer_train.loc[:, 1:]\n",
        "x_train"
      ],
      "execution_count": null,
      "outputs": []
    },
    {
      "cell_type": "code",
      "metadata": {
        "id": "DoWKJH1Oru-m"
      },
      "source": [
        "y_train = wafer_train.loc[:, 0]\n",
        "y_train"
      ],
      "execution_count": null,
      "outputs": []
    },
    {
      "cell_type": "code",
      "metadata": {
        "id": "NEuNv22Wr6ic"
      },
      "source": [
        "x_test = wafer_test.loc[:, 1:]\n",
        "y_test = wafer_test.loc[:, 0]"
      ],
      "execution_count": null,
      "outputs": []
    },
    {
      "cell_type": "code",
      "metadata": {
        "id": "enN9UZSn4K2f"
      },
      "source": [
        "print(y_train.value_counts())\n",
        "print(y_test.value_counts())"
      ],
      "execution_count": null,
      "outputs": []
    },
    {
      "cell_type": "code",
      "metadata": {
        "id": "U58ZXw9M5APR"
      },
      "source": [
        "cond_test_ab = y_test == -1\n",
        "cond_train_ab = y_train == -1\n",
        "\n",
        "cond_test_nor = y_test == 1\n",
        "cond_train_nor = y_train == 1\n",
        "\n",
        "y_train[cond_train_nor]"
      ],
      "execution_count": null,
      "outputs": []
    },
    {
      "cell_type": "code",
      "metadata": {
        "id": "mPrczren5hEY"
      },
      "source": [
        "y_train[cond_train_nor] = 0\n",
        "y_train[cond_train_ab] = 1\n",
        "\n",
        "y_test[cond_test_nor] = 0\n",
        "y_test[cond_test_ab] = 1\n",
        "\n",
        "print(y_test)\n",
        "print(y_train)\n",
        "\n",
        "print(y_test.value_counts())\n",
        "print(y_train.value_counts())"
      ],
      "execution_count": null,
      "outputs": []
    },
    {
      "cell_type": "code",
      "metadata": {
        "id": "wUUevFYM6GVw"
      },
      "source": [
        "y_test = y_test.astype(int)\n",
        "y_train = y_train.astype(int)"
      ],
      "execution_count": null,
      "outputs": []
    },
    {
      "cell_type": "code",
      "metadata": {
        "id": "D7fPN5n-1sJy"
      },
      "source": [
        "from sklearn.model_selection import train_test_split\n",
        "from sklearn.preprocessing import MinMaxScaler"
      ],
      "execution_count": null,
      "outputs": []
    },
    {
      "cell_type": "code",
      "metadata": {
        "id": "_WgNB7M91xKa"
      },
      "source": [
        "x_train, x_valid, y_train, y_valid = train_test_split(x_train, y_train, test_size=0.2, shuffle=True, stratify=y_train, random_state=42)"
      ],
      "execution_count": null,
      "outputs": []
    },
    {
      "cell_type": "code",
      "metadata": {
        "id": "e5aDBibGBssP"
      },
      "source": [
        "scaler = MinMaxScaler()\n",
        "scaler.fit(x_train)\n",
        "x_train = scaler.transform(x_train)\n",
        "x_valid = scaler.transform(x_valid)\n",
        "x_test = scaler.transform(x_test)"
      ],
      "execution_count": null,
      "outputs": []
    },
    {
      "cell_type": "code",
      "metadata": {
        "id": "w-ANYbQz7Kvi"
      },
      "source": [
        "print(x_train)\n",
        "print(y_train)"
      ],
      "execution_count": null,
      "outputs": []
    },
    {
      "cell_type": "code",
      "metadata": {
        "id": "4mEglUXv8dg5"
      },
      "source": [
        "x_train_mlp = np.array(x_train)\n",
        "\n",
        "x_train_lstm = np.array(x_train)\n",
        "x_train_lstm = np.reshape(x_train_lstm, (x_train_lstm.shape[0], x_train_lstm.shape[1], 1))\n",
        "print(x_train_lstm.shape)"
      ],
      "execution_count": null,
      "outputs": []
    },
    {
      "cell_type": "code",
      "metadata": {
        "id": "4iaUgJ6i8u63"
      },
      "source": [
        "x_test_mlp = np.array(x_test)\n",
        "\n",
        "x_test_lstm = np.array(x_test)\n",
        "x_test_lstm = np.reshape(x_test_lstm, (x_test_lstm.shape[0], x_test_lstm.shape[1], 1))\n",
        "\n",
        "\n",
        "x_valid_mlp = np.array(x_valid)\n",
        "\n",
        "x_valid_lstm = np.array(x_valid)\n",
        "x_valid_lstm = np.reshape(x_valid_lstm, (x_valid_lstm.shape[0], x_valid_lstm.shape[1], 1))\n",
        "\n",
        "y_train = np.array(y_train)\n",
        "y_valid = np.array(y_valid)\n",
        "y_test = np.array(y_test)"
      ],
      "execution_count": null,
      "outputs": []
    },
    {
      "cell_type": "markdown",
      "metadata": {
        "id": "t2Io-Q84xYse"
      },
      "source": [
        "## 2-3) 모델 생성 및 실행"
      ]
    },
    {
      "cell_type": "code",
      "metadata": {
        "id": "utG_s4_dxeFP"
      },
      "source": [
        "import tensorflow as tf\n",
        "from keras.layers import LSTM\n",
        "from keras.models import Sequential\n",
        "from keras.layers import Dense\n",
        "from keras.layers import Dropout\n",
        "from keras import optimizers\n",
        "from keras.callbacks import EarlyStopping\n",
        "import numpy as np"
      ],
      "execution_count": null,
      "outputs": []
    },
    {
      "cell_type": "code",
      "metadata": {
        "id": "I9JXwK8BeZFc"
      },
      "source": [
        "tf.random.set_seed(200)\n",
        "np.random.seed(1)"
      ],
      "execution_count": null,
      "outputs": []
    },
    {
      "cell_type": "markdown",
      "metadata": {
        "id": "V4Ypfq0N9wu1"
      },
      "source": [
        "### ◆ MLP 모델 구축"
      ]
    },
    {
      "cell_type": "code",
      "metadata": {
        "id": "N4_XRFoB9y6_"
      },
      "source": [
        "mlp_model = Sequential()\n",
        "mlp_model.add(Dense(64, input_dim=x_train_mlp.shape[1], activation='relu'))\n",
        "mlp_model.add(Dropout(0.5))\n",
        "mlp_model.add(Dense(1, activation='sigmoid'))\n",
        "adam_mlp = optimizers.adam_v2.Adam(lr=0.005)\n",
        "mlp_model.compile(loss='binary_crossentropy', optimizer=adam_mlp, metrics=['acc'])\n",
        "mlp_model.summary()"
      ],
      "execution_count": null,
      "outputs": []
    },
    {
      "cell_type": "code",
      "metadata": {
        "id": "XjxpnYsZ99Eg"
      },
      "source": [
        "weight = {0: 1,\n",
        "          1: 8}\n",
        "# mlp_history = mlp_model.fit(x=x_train_mlp, y=y_train, validation_data=(x_valid_mlp, y_valid), epochs=30, class_weight=weight)\n",
        "\n",
        "mlp_history = mlp_model.fit(x=x_train_mlp, y=y_train, validation_data=(x_valid_mlp, y_valid), epochs=30)\n"
      ],
      "execution_count": null,
      "outputs": []
    },
    {
      "cell_type": "code",
      "metadata": {
        "id": "HxJDQWdKHsiq"
      },
      "source": [
        "mlp_eval = mlp_model.evaluate(x_test, y_test)\n",
        "print(mlp_eval)"
      ],
      "execution_count": null,
      "outputs": []
    },
    {
      "cell_type": "markdown",
      "metadata": {
        "id": "KeO3RXOH9tQP"
      },
      "source": [
        "### ◆ LSTM 모델 구축"
      ]
    },
    {
      "cell_type": "code",
      "metadata": {
        "id": "rauJpkKHegQZ"
      },
      "source": [
        "tf.random.set_seed(200)\n",
        "np.random.seed(1)"
      ],
      "execution_count": null,
      "outputs": []
    },
    {
      "cell_type": "code",
      "metadata": {
        "id": "_gi9yja77eig"
      },
      "source": [
        "lstm_model = Sequential()\n",
        "lstm_model.add(LSTM(10, activation='relu', input_shape=(x_train_lstm.shape[1], x_train_lstm.shape[2])))\n",
        "lstm_model.add(Dense(1, activation='sigmoid'))\n",
        "adam_lstm = optimizers.adam_v2.Adam(lr=0.005)\n",
        "lstm_model.compile(loss='binary_crossentropy', optimizer=adam_lstm, metrics=['acc'])\n",
        "lstm_model.summary()"
      ],
      "execution_count": null,
      "outputs": []
    },
    {
      "cell_type": "code",
      "metadata": {
        "id": "_bCqKJXY_X01"
      },
      "source": [
        "lstm_history = lstm_model.fit(x_train_lstm, y_train, validation_data=(x_valid_lstm, y_valid), epochs=10, class_weight=weight)"
      ],
      "execution_count": null,
      "outputs": []
    },
    {
      "cell_type": "code",
      "metadata": {
        "id": "po4CjExyAlCo"
      },
      "source": [
        "lstm_eval = lstm_model.evaluate(x_test_lstm, y_test)\n",
        "print(lstm_eval)"
      ],
      "execution_count": null,
      "outputs": []
    },
    {
      "cell_type": "code",
      "metadata": {
        "id": "IPA0-pzqIF4R"
      },
      "source": [
        "y_test_df = pd.DataFrame(y_test)\n",
        "y_test_df.value_counts()"
      ],
      "execution_count": null,
      "outputs": []
    },
    {
      "cell_type": "code",
      "metadata": {
        "id": "nTx2hP3uH9rz"
      },
      "source": [
        "%matplotlib inline\n",
        "plt.close('all')"
      ],
      "execution_count": null,
      "outputs": []
    },
    {
      "cell_type": "code",
      "metadata": {
        "id": "DJuBYAjcRaJf"
      },
      "source": [
        "mlp_history_df = pd.DataFrame(mlp_history.history)\n",
        "mlp_history_df.plot(use_index=True, figsize=(15, 10), y=['loss', 'val_loss'])"
      ],
      "execution_count": null,
      "outputs": []
    },
    {
      "cell_type": "code",
      "metadata": {
        "id": "x8QZPlyTH_Tc"
      },
      "source": [
        "%matplotlib inline\n",
        "plt.close('all')"
      ],
      "execution_count": null,
      "outputs": []
    },
    {
      "cell_type": "code",
      "metadata": {
        "id": "EVL4CaFtRlJE"
      },
      "source": [
        "mlp_history_df.plot(use_index=True, figsize=(15, 10), y=['acc', 'val_acc'])"
      ],
      "execution_count": null,
      "outputs": []
    },
    {
      "cell_type": "code",
      "metadata": {
        "id": "__eXdmzZIBCS"
      },
      "source": [
        "%matplotlib inline\n",
        "plt.close('all')"
      ],
      "execution_count": null,
      "outputs": []
    },
    {
      "cell_type": "code",
      "metadata": {
        "id": "yFmpjXsUAp6d"
      },
      "source": [
        "lstm_history_df = pd.DataFrame(lstm_history.history)\n",
        "lstm_history_df.plot(use_index=True, figsize=(15, 10), y=['loss', 'val_loss'])"
      ],
      "execution_count": null,
      "outputs": []
    },
    {
      "cell_type": "code",
      "metadata": {
        "id": "SWD9wt3dIDEl"
      },
      "source": [
        "%matplotlib inline\n",
        "plt.close('all')"
      ],
      "execution_count": null,
      "outputs": []
    },
    {
      "cell_type": "code",
      "metadata": {
        "id": "VDmfkZjvRT6z"
      },
      "source": [
        "lstm_history_df.plot(use_index=True, figsize=(15, 10), y=['acc', 'val_acc'])"
      ],
      "execution_count": null,
      "outputs": []
    },
    {
      "cell_type": "markdown",
      "metadata": {
        "id": "QeLfhQP0xedy"
      },
      "source": [
        "## 2-4) 평가"
      ]
    },
    {
      "cell_type": "code",
      "metadata": {
        "id": "99MmPOF1R3e3"
      },
      "source": [
        "from sklearn.metrics import precision_recall_curve, f1_score, roc_auc_score\n",
        "from sklearn.metrics import accuracy_score, precision_score, recall_score, confusion_matrix"
      ],
      "execution_count": null,
      "outputs": []
    },
    {
      "cell_type": "code",
      "metadata": {
        "id": "kih_COSmR4wS"
      },
      "source": [
        "def classifier_eval(y_test, y_pred):\n",
        "    print('오차행렬 : ', confusion_matrix(y_test, y_pred))\n",
        "    print('정확도   : ', accuracy_score(y_test, y_pred))\n",
        "    print('정밀도   : ', precision_score(y_test, y_pred))\n",
        "    print('재현율   : ', recall_score(y_test, y_pred))\n",
        "    print('F1       : ', f1_score(y_test, y_pred))\n",
        "    print('AUC      : ', roc_auc_score(y_test, y_pred))"
      ],
      "execution_count": null,
      "outputs": []
    },
    {
      "cell_type": "code",
      "metadata": {
        "id": "urGDEjM0d_fL"
      },
      "source": [
        "mlp_pred = mlp_model.predict(x_test_mlp)\n",
        "mlp_pred[mlp_pred <= 0.5] = 0\n",
        "mlp_pred[mlp_pred > 0.5] = 1"
      ],
      "execution_count": null,
      "outputs": []
    },
    {
      "cell_type": "code",
      "metadata": {
        "id": "zjJ39bCHR-gw"
      },
      "source": [
        "lstm_pred = lstm_model.predict(x_test_lstm)\n",
        "lstm_pred[lstm_pred <= 0.5] = 0\n",
        "lstm_pred[lstm_pred > 0.5] = 1"
      ],
      "execution_count": null,
      "outputs": []
    },
    {
      "cell_type": "code",
      "metadata": {
        "id": "62DXQ_F6ScDx"
      },
      "source": [
        "mlp_pred.astype(int)"
      ],
      "execution_count": null,
      "outputs": []
    },
    {
      "cell_type": "code",
      "metadata": {
        "id": "ND1GNvAaYy4l"
      },
      "source": [
        "lstm_pred.astype(int)"
      ],
      "execution_count": null,
      "outputs": []
    },
    {
      "cell_type": "code",
      "metadata": {
        "id": "x5K7CR2Uo9pi"
      },
      "source": [
        "classifier_eval(y_test, mlp_pred)"
      ],
      "execution_count": null,
      "outputs": []
    },
    {
      "cell_type": "code",
      "metadata": {
        "id": "mxDjj6cYY6Pd"
      },
      "source": [
        "classifier_eval(y_test, lstm_pred)"
      ],
      "execution_count": null,
      "outputs": []
    }
  ]
}